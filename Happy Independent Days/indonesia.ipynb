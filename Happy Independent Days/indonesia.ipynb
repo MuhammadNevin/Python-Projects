{
 "cells": [
  {
   "cell_type": "code",
   "execution_count": 5,
   "metadata": {},
   "outputs": [
    {
     "data": {
      "image/png": "[encoded data removed]",
      "text/plain": [
       "<Figure size 432x288 with 1 Axes>"
      ]
     },
     "metadata": {
      "needs_background": "light"
     },
     "output_type": "display_data"
    },
    {
     "name": "stdout",
     "output_type": "stream",
     "text": [
      "Selamat Hari Kemerdekaan Indonesia\n"
     ]
    }
   ],
   "source": [
    "import numpy as np\n",
    "import matplotlib.pyplot as py\n",
    "import matplotlib.patches as patch\n",
    "\n",
    "#Plotting the colours\n",
    "a = patch.Rectangle((0,3), width=6, height=2, facecolor='#FF0000', edgecolor='grey')\n",
    "b = patch.Rectangle((0,1), width=6, height=2, facecolor='#FFFFFF', edgecolor='grey')\n",
    "\n",
    "m,n = py.subplots()\n",
    "n.add_patch(a)\n",
    "n.add_patch(b)\n",
    "\n",
    "py.axis('equal')\n",
    "py.show()\n",
    "print('Selamat Hari Kemerdekaan Indonesia')"
   ]
  }
 ],
 "metadata": {
  "kernelspec": {
   "display_name": "nevin",
   "language": "python",
   "name": "python3"
  },
  "language_info": {
   "codemirror_mode": {
    "name": "ipython",
    "version": 3
   },
   "file_extension": ".py",
   "mimetype": "text/x-python",
   "name": "python",
   "nbconvert_exporter": "python",
   "pygments_lexer": "ipython3",
   "version": "3.9.12"
  },
  "orig_nbformat": 4
 },
 "nbformat": 4,
 "nbformat_minor": 2
}
